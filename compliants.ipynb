{
 "cells": [
  {
   "cell_type": "code",
   "execution_count": 2,
   "metadata": {},
   "outputs": [],
   "source": [
    "# Load Huggingface transformers\n",
    "from transformers import TFBertModel,  BertConfig, BertTokenizerFast\n",
    "\n",
    "# Then what you need from tensorflow.keras\n",
    "from tensorflow.keras.layers import Input, Dropout, Dense\n",
    "from tensorflow.keras.models import Model\n",
    "from tensorflow.keras.optimizers import Adam\n",
    "from tensorflow.keras.callbacks import EarlyStopping\n",
    "from tensorflow.keras.initializers import TruncatedNormal\n",
    "from tensorflow.keras.losses import CategoricalCrossentropy\n",
    "from tensorflow.keras.metrics import CategoricalAccuracy\n",
    "from tensorflow.keras.utils import to_categorical\n",
    "\n",
    "# And pandas for data import + sklearn because you allways need sklearn\n",
    "import pandas as pd\n",
    "from sklearn.model_selection import train_test_split\n",
    "\n"
   ]
  },
  {
   "cell_type": "code",
   "execution_count": 4,
   "metadata": {},
   "outputs": [],
   "source": [
    "data = pd.read_csv('data/complaints.csv')\n",
    "# Select required columns\n",
    "data = data[['Consumer complaint narrative', 'Product', 'Issue']]\n",
    "# Remove a row if any of the three remaining columns are missing\n",
    "data = data.dropna()\n",
    "# Remove rows, where the label is present only ones (can't be split)\n",
    "data = data.groupby('Issue').filter(lambda x : len(x) > 1)\n",
    "data = data.groupby('Product').filter(lambda x : len(x) > 1)\n",
    "# Set your model output as categorical and save in new label col\n",
    "data['Issue_label'] = pd.Categorical(data['Issue'])\n",
    "data['Product_label'] = pd.Categorical(data['Product'])\n",
    "# Transform your output to numeric\n",
    "data['Issue'] = data['Issue_label'].cat.codes\n",
    "data['Product'] = data['Product_label'].cat.codes\n",
    "# Split into train and test - stratify over Issue\n",
    "data, data_test = train_test_split(data, test_size = 0.2, stratify = data[['Issue']])\n"
   ]
  },
  {
   "cell_type": "code",
   "execution_count": null,
   "metadata": {},
   "outputs": [],
   "source": []
  }
 ],
 "metadata": {
  "kernelspec": {
   "display_name": "Python 3",
   "language": "python",
   "name": "python3"
  },
  "language_info": {
   "codemirror_mode": {
    "name": "ipython",
    "version": 3
   },
   "file_extension": ".py",
   "mimetype": "text/x-python",
   "name": "python",
   "nbconvert_exporter": "python",
   "pygments_lexer": "ipython3",
   "version": "3.8.0"
  }
 },
 "nbformat": 4,
 "nbformat_minor": 4
}
